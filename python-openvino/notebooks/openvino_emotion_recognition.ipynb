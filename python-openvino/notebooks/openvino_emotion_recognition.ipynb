{
 "cells": [
  {
   "cell_type": "markdown",
   "metadata": {},
   "source": [
    "# OpenVINO Emotion Recognition"
   ]
  },
  {
   "cell_type": "markdown",
   "metadata": {},
   "source": [
    "This repository comes with a companion Docker image required to run this notebook. Follow the instructions on (ADD_LINK) to get your Docker image running in few simple steps.\n",
    "\n",
    "If your environment is setup propertly, you should expect to see the OpenVINO's version after executing the cell below."
   ]
  },
  {
   "cell_type": "code",
   "execution_count": 1,
   "metadata": {},
   "outputs": [
    {
     "name": "stdout",
     "output_type": "stream",
     "text": [
      "openvino inference engine: 2.1.37988\n"
     ]
    }
   ],
   "source": [
    "from openvino import inference_engine as ie\n",
    "\n",
    "print('openvino inference engine:', ie.__version__)"
   ]
  },
  {
   "cell_type": "markdown",
   "metadata": {},
   "source": [
    "## Import dependencies"
   ]
  },
  {
   "cell_type": "code",
   "execution_count": 2,
   "metadata": {},
   "outputs": [
    {
     "name": "stdout",
     "output_type": "stream",
     "text": [
      "tensorflow: 1.15.0\n",
      "openvino ie: 2.1.37988\n",
      "numpy: 1.17.0\n"
     ]
    }
   ],
   "source": [
    "import os\n",
    "import sys\n",
    "import time\n",
    "import logging as log\n",
    "import numpy as np\n",
    "import tensorflow as tf\n",
    "import cv2 as cv\n",
    "\n",
    "# from tensorflow.gfile import GFile\n",
    "from IPython.display import Image\n",
    "from IPython.display import HTML\n",
    "from utils import parse_od_output, draw_image\n",
    "from openvino import inference_engine as ie\n",
    "from openvino.inference_engine import IECore\n",
    "from openvino.inference_engine import IENetwork\n",
    "\n",
    "\n",
    "# path to test images\n",
    "TEST_DATA_PATH = os.path.join('.','data')\n",
    "\n",
    "print('tensorflow:', tf.__version__)\n",
    "print('openvino ie:', ie.__version__)\n",
    "print('numpy:', np.__version__)"
   ]
  },
  {
   "cell_type": "markdown",
   "metadata": {},
   "source": [
    "## Emotion Recognition Model\n",
    "\n",
    "Fully convolutional network for recognition of five emotions ('neutral', 'happy', 'sad', 'surprise', 'anger').\n",
    "\n",
    "The model define a input is a blob named ``data`` that consists of a single image of ``1x3x64x64`` in the **BGR** order.\n",
    "\n",
    "The model defines an output blob named ``prob_emotion`` which is a typical vector containing the tracked object data. Note that the ``class_id`` data is now significant and should be used to determine the classification for any detected object.\n",
    "\n",
    "Expected accuracy 70.20%. Benchmark: [AffectNet](http://mohammadmahoor.com/affectnet/). Model name: ``emotion-recognition-retail-0003``.\n",
    "\n",
    "Model outputs:\n",
    "\n",
    "1. Classifier, name - detection_classes, contains predicted bounding boxes classes in range [1, 91]. The model was trained with 90 categories of objects.\n",
    "\n",
    "2. Probability, name - detection_scores, contains probability of detected bounding boxes.\n",
    "\n",
    "3. Detection box, name - detection_boxes, contains detection boxes coordinates in format [y_min, x_min, y_max, x_max], where (x_min, y_min) are coordinates top left corner, (x_max, y_max) are coordinates of the right bottom corner. Coordinates are rescaled to the input image size.\n",
    "\n",
    "4. Detections number, name - num_detections, contains the number of predicted detection boxes."
   ]
  },
  {
   "cell_type": "markdown",
   "metadata": {},
   "source": [
    "### Config"
   ]
  },
  {
   "cell_type": "code",
   "execution_count": 119,
   "metadata": {},
   "outputs": [],
   "source": [
    "TEST_DATA_PATH = os.path.join('.', 'data')\n",
    "DEVICE = 'CPU'\n",
    "# face assets\n",
    "FACE_ASSETS = os.path.join(TEST_DATA_PATH, 'intel', 'face-detection-adas-0001')\n",
    "FACE_MODEL_PATH_XML = os.path.join(FACE_ASSETS, 'FP32', 'face-detection-adas-0001.xml')\n",
    "FACE_MODEL_PATH_BIN = os.path.join(FACE_ASSETS, 'FP32', 'face-detection-adas-0001.bin')\n",
    "\n",
    "# test image\n",
    "IMAGES_PATH = os.path.join(TEST_DATA_PATH, 'images')\n",
    "INPUT_IMAGE = os.path.join(IMAGES_PATH, 'input', 'person8.jpg')\n",
    "OUTPUT_IMAGE = os.path.join(IMAGES_PATH, 'output', 'person8.jpg')\n",
    "PROB_THRESHOLD = 0.8\n",
    "\n",
    "# initialize logging\n",
    "log.basicConfig(format=\"[ %(levelname)s ] %(message)s\", level=log.INFO, stream=sys.stdout)"
   ]
  },
  {
   "cell_type": "markdown",
   "metadata": {},
   "source": [
    "### Utils"
   ]
  },
  {
   "cell_type": "code",
   "execution_count": 84,
   "metadata": {},
   "outputs": [],
   "source": [
    "def read_resize_image(path_to_image: str, width: int, height: int):\n",
    "    \"\"\"\n",
    "    Takes an image and resizes it to the given dimensions.\n",
    "    \"\"\"\n",
    "    # Load the image \n",
    "    raw_image = cv.imread(path_to_image)\n",
    "    # Return the image resized to the (width, height) format\n",
    "    return cv.resize(raw_image, (width, height), interpolation=cv.INTER_NEAREST)"
   ]
  },
  {
   "cell_type": "code",
   "execution_count": 85,
   "metadata": {},
   "outputs": [],
   "source": [
    "def draw_image(original_image: str, res: tuple, output_image: str,\n",
    "              prob_threshold: float=0.8, color: tuple=(255, 0, 0),\n",
    "              emotion_detector=None):\n",
    "    \"\"\"\n",
    "    Takes a path to the image and bounding boxes.\n",
    "    Draws those boxes on the new image and saves it.\n",
    "    \"\"\"\n",
    "    raw_image = cv.imread(original_image)\n",
    "    initial_h, initial_w, _ = raw_image.shape\n",
    "    labels_map = {\n",
    "        17: 'cat',\n",
    "        18: 'dog',\n",
    "    }\n",
    "    for obj in res[0][0]:\n",
    "        ignore, class_id, prob, xmin, ymin, xmax, ymax = obj  \n",
    "        log.debug(f'Bound box probability: {prob}')\n",
    "        if prob > PROB_THRESHOLD:\n",
    "            xmin = int(xmin * initial_w)\n",
    "            ymin = int(ymin * initial_h)\n",
    "            xmax = int(xmax * initial_w)\n",
    "            ymax = int(ymax * initial_h)\n",
    "            class_id = int(class_id)\n",
    "            log.debug(f'Estimated class: {prob}')\n",
    "            log.debug(f'x,y min: {xmin, ymin} - x,y max: {xmax, ymax}')\n",
    "            confidence = round(prob * 100, 1)\n",
    "            cv.rectangle(raw_image, (xmin, ymin), (xmax, ymax), color, 2)\n",
    "            print('here we are 22222222222222', xmin, ymin, xmax, ymax)\n",
    "            if emotion_detector is not None:\n",
    "                print('here we are',  xmin, ymin, xmax, ymax)\n",
    "                # log.debug(f'calling emotion detector: {xmin, ymin, xmax, ymax}')\n",
    "                emotion_detector(raw_image, xmin, ymin, xmax, ymax)\n",
    "            # det_label = labels_map[class_id]\n",
    "            # box_title = f'{det_label} {confidence}%'\n",
    "            # cv.putText(raw_image, box_title, (xmin, ymin - 7), \n",
    "            #           cv.FONT_HERSHEY_COMPLEX, 4, color, cv.LINE_AA)\n",
    "    cv.imwrite(output_image, raw_image)"
   ]
  },
  {
   "cell_type": "markdown",
   "metadata": {},
   "source": [
    "### Step 2. Instantiate the entitiy that helps us manupulate plugins using unified interfaces"
   ]
  },
  {
   "cell_type": "code",
   "execution_count": 86,
   "metadata": {},
   "outputs": [],
   "source": [
    "ie = IECore()"
   ]
  },
  {
   "cell_type": "markdown",
   "metadata": {},
   "source": [
    "### Step 1. Detect faces on image"
   ]
  },
  {
   "cell_type": "code",
   "execution_count": 62,
   "metadata": {},
   "outputs": [
    {
     "name": "stdout",
     "output_type": "stream",
     "text": [
      "################|| Downloading models ||################\n",
      "\n",
      "========== Downloading data/intel/face-detection-adas-0001/FP32/face-detection-adas-0001.xml\n",
      "... 100%, 227 KB, 3536 KB/s, 0 seconds passed\n",
      "\n",
      "========== Downloading data/intel/face-detection-adas-0001/FP32/face-detection-adas-0001.bin\n",
      "... 100%, 4113 KB, 10572 KB/s, 0 seconds passed\n",
      "\n",
      "========== Downloading data/intel/face-detection-adas-0001/FP16/face-detection-adas-0001.xml\n",
      "... 100%, 227 KB, 7580 KB/s, 0 seconds passed\n",
      "\n",
      "========== Downloading data/intel/face-detection-adas-0001/FP16/face-detection-adas-0001.bin\n",
      "... 100%, 2056 KB, 9711 KB/s, 0 seconds passed\n",
      "\n",
      "========== Downloading data/intel/face-detection-adas-0001/FP32-INT8/face-detection-adas-0001.xml\n",
      "... 100%, 492 KB, 8441 KB/s, 0 seconds passed\n",
      "\n",
      "========== Downloading data/intel/face-detection-adas-0001/FP32-INT8/face-detection-adas-0001.bin\n",
      "... 100%, 4190 KB, 12254 KB/s, 0 seconds passed\n",
      "\n",
      "################|| Post-processing ||################\n",
      "\n"
     ]
    }
   ],
   "source": [
    "!python ${INTEL_OPENVINO_DIR}/deployment_tools/open_model_zoo/tools/downloader/downloader.py \\\n",
    "--name face-detection-adas-0001 \\\n",
    "--output_dir ./data"
   ]
  },
  {
   "cell_type": "code",
   "execution_count": 120,
   "metadata": {},
   "outputs": [
    {
     "name": "stdout",
     "output_type": "stream",
     "text": [
      "here we are 22222222222222 43 0 166 167\n"
     ]
    },
    {
     "data": {
      "image/jpeg": "[encoded data removed]",
      "text/plain": [
       "<IPython.core.display.Image object>"
      ]
     },
     "execution_count": 120,
     "metadata": {},
     "output_type": "execute_result"
    }
   ],
   "source": [
    "face_net = IENetwork(FACE_MODEL_PATH_XML, FACE_MODEL_PATH_BIN)\n",
    "face_input_blob = next(iter(face_net.inputs))\n",
    "face_n, face_c, face_h, face_w = face_net.inputs[face_input_blob].shape\n",
    "face_out_blob = next(iter(face_net.outputs))\n",
    "net = ie.load_network(network=face_net, device_name=DEVICE)\n",
    "image = read_resize_image(INPUT_IMAGE, face_w, face_h)\n",
    "image = image[..., ::-1]\n",
    "in_frame = image.transpose((2, 0, 1))\n",
    "batched_frame = in_frame.reshape(1, face_c, face_h, face_w)\n",
    "faces_res = net.infer(inputs={face_input_blob: batched_frame})\n",
    "draw_image(INPUT_IMAGE, faces_res[face_out_blob], OUTPUT_IMAGE)\n",
    "Image(filename=OUTPUT_IMAGE)"
   ]
  },
  {
   "cell_type": "markdown",
   "metadata": {},
   "source": [
    "### Step 2: Download the model"
   ]
  },
  {
   "cell_type": "markdown",
   "metadata": {},
   "source": [
    "Config"
   ]
  },
  {
   "cell_type": "code",
   "execution_count": 101,
   "metadata": {},
   "outputs": [],
   "source": [
    "TEST_DATA_PATH = os.path.join('.', 'data')\n",
    "EMOTION_ASSETS = os.path.join(TEST_DATA_PATH, 'intel', 'emotions-recognition-retail-0003')\n",
    "EMOTION_MODEL_PATH_XML = os.path.join(EMOTION_ASSETS, 'FP32', 'emotions-recognition-retail-0003.xml')\n",
    "EMOTION_MODEL_PATH_BIN = os.path.join(EMOTION_ASSETS, 'FP32', 'emotions-recognition-retail-0003.bin')"
   ]
  },
  {
   "cell_type": "markdown",
   "metadata": {},
   "source": [
    "We are interested on the ``emotions-recognition-retail-0003`` model."
   ]
  },
  {
   "cell_type": "code",
   "execution_count": 89,
   "metadata": {},
   "outputs": [
    {
     "name": "stdout",
     "output_type": "stream",
     "text": [
      "emotions-recognition-retail-0003\r\n"
     ]
    }
   ],
   "source": [
    "!python ${INTEL_OPENVINO_DIR}/deployment_tools/open_model_zoo/tools/downloader/downloader.py --print_all | grep emotions-recognition-retail*"
   ]
  },
  {
   "cell_type": "markdown",
   "metadata": {},
   "source": [
    "Download the model under the ``./data`` folder."
   ]
  },
  {
   "cell_type": "code",
   "execution_count": 90,
   "metadata": {},
   "outputs": [
    {
     "name": "stdout",
     "output_type": "stream",
     "text": [
      "################|| Downloading models ||################\n",
      "\n",
      "========== Downloading data/intel/emotions-recognition-retail-0003/FP32/emotions-recognition-retail-0003.xml\n",
      "... 100%, 36 KB, 5685 KB/s, 0 seconds passed\n",
      "\n",
      "========== Downloading data/intel/emotions-recognition-retail-0003/FP32/emotions-recognition-retail-0003.bin\n",
      "... 100%, 9697 KB, 11290 KB/s, 0 seconds passed\n",
      "\n",
      "========== Downloading data/intel/emotions-recognition-retail-0003/FP16/emotions-recognition-retail-0003.xml\n",
      "... 100%, 36 KB, 14631 KB/s, 0 seconds passed\n",
      "\n",
      "========== Downloading data/intel/emotions-recognition-retail-0003/FP16/emotions-recognition-retail-0003.bin\n",
      "... 100%, 4848 KB, 12231 KB/s, 0 seconds passed\n",
      "\n",
      "========== Downloading data/intel/emotions-recognition-retail-0003/FP32-INT8/emotions-recognition-retail-0003.xml\n",
      "... 100%, 100 KB, 10692 KB/s, 0 seconds passed\n",
      "\n",
      "========== Downloading data/intel/emotions-recognition-retail-0003/FP32-INT8/emotions-recognition-retail-0003.bin\n",
      "... 100%, 9714 KB, 13118 KB/s, 0 seconds passed\n",
      "\n",
      "################|| Post-processing ||################\n",
      "\n"
     ]
    }
   ],
   "source": [
    "!python ${INTEL_OPENVINO_DIR}/deployment_tools/open_model_zoo/tools/downloader/downloader.py \\\n",
    "--name emotions-recognition-retail-0003 \\\n",
    "--output_dir ./data"
   ]
  },
  {
   "cell_type": "markdown",
   "metadata": {},
   "source": [
    "### Step 3. Read and prepare the model\n",
    "\n",
    "The IENetwork class is designed to work with a model in the Inference Engine. This class contains information about the network model read from the intermediate representation and allows you to manipulate some model parameters such as layers affinity and output layers."
   ]
  },
  {
   "cell_type": "code",
   "execution_count": 91,
   "metadata": {},
   "outputs": [],
   "source": [
    "emotion_net = IENetwork(EMOTION_MODEL_PATH_XML, EMOTION_MODEL_PATH_BIN)"
   ]
  },
  {
   "cell_type": "markdown",
   "metadata": {},
   "source": [
    "### Step 4. Get the name of the input layer of the model\n",
    "\n",
    "To infer a model, you need to know input layers of the model. The object ```net``` contains information about inputs of the network in a property named ```inputs``` which is a dictionary. \n",
    "\n",
    "- key - name of the input layer\n",
    "- volume - representation of the input."
   ]
  },
  {
   "cell_type": "code",
   "execution_count": 92,
   "metadata": {},
   "outputs": [
    {
     "name": "stdout",
     "output_type": "stream",
     "text": [
      "Input layer of the network is: data\n"
     ]
    }
   ],
   "source": [
    "emotion_input_blob = next(iter(net.inputs))\n",
    "\n",
    "print(f'Input layer of the network is: {emotion_input_blob}')"
   ]
  },
  {
   "cell_type": "markdown",
   "metadata": {},
   "source": [
    "### Step 5: Get shape (dimensions) fo the input layer of the network\n",
    "\n",
    "- n: number of batches\n",
    "- c: number of input image channels (usualy 3 for RGB)\n",
    "- h: height\n",
    "- w: width"
   ]
  },
  {
   "cell_type": "code",
   "execution_count": 93,
   "metadata": {},
   "outputs": [
    {
     "name": "stdout",
     "output_type": "stream",
     "text": [
      "Input shape of the network: [1, 3, 384, 672]\n"
     ]
    }
   ],
   "source": [
    "EMOTION_N, EMOTION_C, EMOTION_H, EMOTION_W = net.inputs[emotion_input_blob].shape\n",
    "\n",
    "print(f'Input shape of the network: [{EMOTION_N}, {EMOTION_C}, {EMOTION_H}, {EMOTION_W}]')"
   ]
  },
  {
   "cell_type": "markdown",
   "metadata": {},
   "source": [
    "### Step 6: Get names of output layers of the network"
   ]
  },
  {
   "cell_type": "code",
   "execution_count": 94,
   "metadata": {},
   "outputs": [
    {
     "name": "stdout",
     "output_type": "stream",
     "text": [
      "Output layer of the network: prob_emotion\n"
     ]
    }
   ],
   "source": [
    "emotion_out_blob = next(iter(emotion_net.outputs))\n",
    "\n",
    "print(f'Output layer of the network: {emotion_out_blob}')"
   ]
  },
  {
   "cell_type": "markdown",
   "metadata": {},
   "source": [
    "### Step 7: Load the network to a device\n",
    "\n",
    "- ```network```: instance of IENetwork\n",
    "- ```device_name```: contains a divice name to infer a model on: CPU, GPU, FPGA, etc.\n"
   ]
  },
  {
   "cell_type": "code",
   "execution_count": 95,
   "metadata": {},
   "outputs": [],
   "source": [
    "infer_emotion_net = ie.load_network(network=emotion_net, device_name=DEVICE)"
   ]
  },
  {
   "cell_type": "code",
   "execution_count": 121,
   "metadata": {},
   "outputs": [],
   "source": [
    "from matplotlib import pyplot as plt\n",
    "def infer_emotion(net, n=1, c=3, h=64, w=64):\n",
    "    def crop_bbox_frame(frame, xmin, ymin, xmax, ymax):\n",
    "        bbox_frame = frame[ymin:ymax, xmin:xmax]\n",
    "        return bbox_frame\n",
    "    \n",
    "    def emotion_detector(image, xmin, ymin, xmax, ymax):\n",
    "        cropped_box = crop_bbox_frame(image, xmin, ymin, xmax, ymax)\n",
    "        print('cropped box:', cropped_box.shape)\n",
    "        bbox_frame = cv.resize(cropped_box, (w, h), interpolation=cv.INTER_NEAREST)\n",
    "        print('resized box:', bbox_frame.shape)\n",
    "        plt.imshow(bbox_frame)\n",
    "        plt.show()\n",
    "        bbox_frame = bbox_frame[..., ::-1]\n",
    "        print('... box:', bbox_frame.shape)\n",
    "        bbox_frame = bbox_frame.transpose((2, 0, 1))\n",
    "        print('transposed box:', bbox_frame.shape)\n",
    "        batched_frame = bbox_frame.reshape(1, c, h, w)\n",
    "        res = infer_emotion_net.infer(inputs={face_input_blob: batched_frame})\n",
    "        print('res', res[emotion_out_blob])\n",
    "        print(np.argmax(res[emotion_out_blob]))\n",
    "        return np.argmax(res[emotion_out_blob])\n",
    "        \n",
    "    return emotion_detector"
   ]
  },
  {
   "cell_type": "code",
   "execution_count": 122,
   "metadata": {
    "scrolled": true
   },
   "outputs": [
    {
     "name": "stdout",
     "output_type": "stream",
     "text": [
      "here we are 22222222222222 43 0 166 167\n",
      "here we are 43 0 166 167\n",
      "cropped box: (167, 123, 3)\n",
      "resized box: (64, 64, 3)\n"
     ]
    },
    {
     "data": {
      "image/png": "[encoded data removed]",
      "text/plain": [
       "<Figure size 432x288 with 1 Axes>"
      ]
     },
     "metadata": {},
     "output_type": "display_data"
    },
    {
     "name": "stdout",
     "output_type": "stream",
     "text": [
      "... box: (64, 64, 3)\n",
      "transposed box: (3, 64, 64)\n",
      "res [[[[0.22867027]]\n",
      "\n",
      "  [[0.0214265 ]]\n",
      "\n",
      "  [[0.18462391]]\n",
      "\n",
      "  [[0.00071682]]\n",
      "\n",
      "  [[0.56456256]]]]\n",
      "4\n"
     ]
    }
   ],
   "source": [
    "emotion_detector = infer_emotion(infer_emotion_net)\n",
    "\n",
    "draw_image(INPUT_IMAGE, faces_res[face_out_blob], OUTPUT_IMAGE, emotion_detector=emotion_detector)\n",
    "# Image(filename=OUTPUT_IMAGE)"
   ]
  },
  {
   "cell_type": "code",
   "execution_count": null,
   "metadata": {},
   "outputs": [],
   "source": []
  },
  {
   "cell_type": "code",
   "execution_count": null,
   "metadata": {},
   "outputs": [],
   "source": []
  }
 ],
 "metadata": {
  "kernelspec": {
   "display_name": "idp",
   "language": "python",
   "name": "idp"
  },
  "language_info": {
   "codemirror_mode": {
    "name": "ipython",
    "version": 3
   },
   "file_extension": ".py",
   "mimetype": "text/x-python",
   "name": "python",
   "nbconvert_exporter": "python",
   "pygments_lexer": "ipython3",
   "version": "3.6.8"
  }
 },
 "nbformat": 4,
 "nbformat_minor": 2
}
